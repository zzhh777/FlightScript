{
 "cells": [
  {
   "cell_type": "code",
   "execution_count": 1,
   "metadata": {},
   "outputs": [],
   "source": [
    "import numpy as np\n",
    "import pandas as pd"
   ]
  },
  {
   "cell_type": "code",
   "execution_count": 2,
   "metadata": {},
   "outputs": [],
   "source": [
    "offline = False"
   ]
  },
  {
   "cell_type": "code",
   "execution_count": 3,
   "metadata": {},
   "outputs": [],
   "source": [
    "data = pd.read_csv('WIFI_AP_Passenger_Records_chusai_1stround.csv')\n",
    "data.columns = ['wifi_ap_tag','passenger_count','time_stamp']"
   ]
  },
  {
   "cell_type": "code",
   "execution_count": 4,
   "metadata": {},
   "outputs": [
    {
     "data": {
      "text/html": [
       "<div>\n",
       "<table border=\"1\" class=\"dataframe\">\n",
       "  <thead>\n",
       "    <tr style=\"text-align: right;\">\n",
       "      <th></th>\n",
       "      <th>wifi_ap_tag</th>\n",
       "      <th>passenger_count</th>\n",
       "      <th>time_stamp</th>\n",
       "    </tr>\n",
       "  </thead>\n",
       "  <tbody>\n",
       "    <tr>\n",
       "      <th>0</th>\n",
       "      <td>E1-1A-1&lt;E1-1-01&gt;</td>\n",
       "      <td>15</td>\n",
       "      <td>2016-09-10-18-55-04</td>\n",
       "    </tr>\n",
       "  </tbody>\n",
       "</table>\n",
       "</div>"
      ]
     },
     "output_type": "execute_result",
     "metadata": {}
    }
   ],
   "source": [
    "data[:1]"
   ]
  },
  {
   "cell_type": "code",
   "execution_count": 5,
   "metadata": {},
   "outputs": [
    {
     "name": "stdout",
     "output_type": "stream",
     "text": [
      "749\n",
      "4133492\n",
      "2016-09-10-18-55-04\n",
      "2016-09-14-14-59-01\n"
     ]
    }
   ],
   "source": [
    "print len(data['wifi_ap_tag'].drop_duplicates())\n",
    "print len(data)\n",
    "print min(data['time_stamp'])\n",
    "print max(data['time_stamp'])"
   ]
  },
  {
   "cell_type": "code",
   "execution_count": 6,
   "metadata": {},
   "outputs": [
    {
     "data": {
      "text/html": [
       "<div>\n",
       "<table border=\"1\" class=\"dataframe\">\n",
       "  <thead>\n",
       "    <tr style=\"text-align: right;\">\n",
       "      <th></th>\n",
       "      <th>wifi_ap_tag</th>\n",
       "      <th>passenger_count</th>\n",
       "      <th>time_stamp</th>\n",
       "    </tr>\n",
       "  </thead>\n",
       "  <tbody>\n",
       "  </tbody>\n",
       "</table>\n",
       "</div>"
      ]
     },
     "output_type": "execute_result",
     "metadata": {}
    }
   ],
   "source": [
    "data[data['time_stamp'] < '2016-09-10-18-55-04']"
   ]
  },
  {
   "cell_type": "code",
   "execution_count": 7,
   "metadata": {},
   "outputs": [],
   "source": [
    "wifi_ap_tag_list = list(data['wifi_ap_tag'].drop_duplicates())\n",
    "hour_list = ['15','16','17']\n",
    "slice_list = ['0','1','2','3','4','5'] \n",
    "if offline:\n",
    "    time = '2016-09-13-'\n",
    "else:\n",
    "    time = '2016-09-14-'"
   ]
  },
  {
   "cell_type": "code",
   "execution_count": 8,
   "metadata": {},
   "outputs": [],
   "source": [
    "predict_df = []\n",
    "for i in range(len(wifi_ap_tag_list)):\n",
    "    for j in range(len(hour_list)):\n",
    "        for k in range(len(slice_list)):\n",
    "            predict_df.append([wifi_ap_tag_list[i],time+hour_list[j]+'-'+slice_list[k]])\n",
    "predict_df = pd.DataFrame(data = predict_df,columns = ['WIFIAPTag','slice10min'])"
   ]
  },
  {
   "cell_type": "code",
   "execution_count": 9,
   "metadata": {},
   "outputs": [
    {
     "data": {
      "text/html": [
       "<div>\n",
       "<table border=\"1\" class=\"dataframe\">\n",
       "  <thead>\n",
       "    <tr style=\"text-align: right;\">\n",
       "      <th></th>\n",
       "      <th>WIFIAPTag</th>\n",
       "      <th>slice10min</th>\n",
       "    </tr>\n",
       "  </thead>\n",
       "  <tbody>\n",
       "    <tr>\n",
       "      <th>0</th>\n",
       "      <td>E1-1A-1&lt;E1-1-01&gt;</td>\n",
       "      <td>2016-09-14-15-0</td>\n",
       "    </tr>\n",
       "    <tr>\n",
       "      <th>1</th>\n",
       "      <td>E1-1A-1&lt;E1-1-01&gt;</td>\n",
       "      <td>2016-09-14-15-1</td>\n",
       "    </tr>\n",
       "    <tr>\n",
       "      <th>2</th>\n",
       "      <td>E1-1A-1&lt;E1-1-01&gt;</td>\n",
       "      <td>2016-09-14-15-2</td>\n",
       "    </tr>\n",
       "    <tr>\n",
       "      <th>3</th>\n",
       "      <td>E1-1A-1&lt;E1-1-01&gt;</td>\n",
       "      <td>2016-09-14-15-3</td>\n",
       "    </tr>\n",
       "    <tr>\n",
       "      <th>4</th>\n",
       "      <td>E1-1A-1&lt;E1-1-01&gt;</td>\n",
       "      <td>2016-09-14-15-4</td>\n",
       "    </tr>\n",
       "  </tbody>\n",
       "</table>\n",
       "</div>"
      ]
     },
     "output_type": "execute_result",
     "metadata": {}
    }
   ],
   "source": [
    "predict_df[:5]"
   ]
  },
  {
   "cell_type": "code",
   "execution_count": 10,
   "metadata": {},
   "outputs": [
    {
     "name": "stdout",
     "output_type": "stream",
     "text": [
      "13482\n",
      "13482\n"
     ]
    }
   ],
   "source": [
    "print len(predict_df)\n",
    "print 749*3*6"
   ]
  },
  {
   "cell_type": "code",
   "execution_count": 11,
   "metadata": {},
   "outputs": [
    {
     "name": "stdout",
     "output_type": "stream",
     "text": [
      "2016-09-12-23-59-01\n",
      "749\n"
     ]
    }
   ],
   "source": [
    "#基本可以确定wifi_ap_tag恒定\n",
    "data_tmp = data[data['time_stamp'] < '2016-09-13']\n",
    "print max(data_tmp['time_stamp'])\n",
    "print len(data_tmp['wifi_ap_tag'].drop_duplicates())"
   ]
  },
  {
   "cell_type": "code",
   "execution_count": 12,
   "metadata": {},
   "outputs": [],
   "source": [
    "def get_slice_10_min(data):\n",
    "    str_time_stamp = data.split('-')\n",
    "    slice_tmp = int(str_time_stamp[4])\n",
    "    slice = 0\n",
    "    if slice_tmp >= 50:\n",
    "        slice = 5\n",
    "    elif slice_tmp >= 40:\n",
    "        slice = 4\n",
    "    elif slice_tmp >= 30:\n",
    "        slice = 3\n",
    "    elif slice_tmp >= 20:\n",
    "        slice = 2\n",
    "    elif slice_tmp >= 10:\n",
    "        slice = 1\n",
    "    else:\n",
    "        slice = 0\n",
    "    return str(str_time_stamp[0])+'-'+str(str_time_stamp[1])+'-'+str(str_time_stamp[2])+'-'+str(str_time_stamp[3])+'-'+str(slice)"
   ]
  },
  {
   "cell_type": "code",
   "execution_count": 13,
   "metadata": {},
   "outputs": [],
   "source": [
    "data['slice_10_min'] = data['time_stamp'].apply(lambda x : get_slice_10_min(x))"
   ]
  },
  {
   "cell_type": "code",
   "execution_count": 14,
   "metadata": {},
   "outputs": [
    {
     "data": {
      "text/html": [
       "<div>\n",
       "<table border=\"1\" class=\"dataframe\">\n",
       "  <thead>\n",
       "    <tr style=\"text-align: right;\">\n",
       "      <th></th>\n",
       "      <th>wifi_ap_tag</th>\n",
       "      <th>passenger_count</th>\n",
       "      <th>time_stamp</th>\n",
       "      <th>slice_10_min</th>\n",
       "    </tr>\n",
       "  </thead>\n",
       "  <tbody>\n",
       "    <tr>\n",
       "      <th>0</th>\n",
       "      <td>E1-1A-1&lt;E1-1-01&gt;</td>\n",
       "      <td>15</td>\n",
       "      <td>2016-09-10-18-55-04</td>\n",
       "      <td>2016-09-10-18-5</td>\n",
       "    </tr>\n",
       "  </tbody>\n",
       "</table>\n",
       "</div>"
      ]
     },
     "output_type": "execute_result",
     "metadata": {}
    }
   ],
   "source": [
    "data[:1]"
   ]
  },
  {
   "cell_type": "code",
   "execution_count": 15,
   "metadata": {},
   "outputs": [],
   "source": [
    "avg_slice_10_min = data[['wifi_ap_tag','passenger_count','slice_10_min']].groupby(['wifi_ap_tag','slice_10_min']).sum().reset_index()"
   ]
  },
  {
   "cell_type": "code",
   "execution_count": 16,
   "metadata": {},
   "outputs": [
    {
     "data": {
      "text/html": [
       "<div>\n",
       "<table border=\"1\" class=\"dataframe\">\n",
       "  <thead>\n",
       "    <tr style=\"text-align: right;\">\n",
       "      <th></th>\n",
       "      <th>wifi_ap_tag</th>\n",
       "      <th>slice_10_min</th>\n",
       "      <th>passenger_count</th>\n",
       "    </tr>\n",
       "  </thead>\n",
       "  <tbody>\n",
       "    <tr>\n",
       "      <th>0</th>\n",
       "      <td>E1-1A-1&lt;E1-1-01&gt;</td>\n",
       "      <td>2016-09-10-18-5</td>\n",
       "      <td>81</td>\n",
       "    </tr>\n",
       "  </tbody>\n",
       "</table>\n",
       "</div>"
      ]
     },
     "output_type": "execute_result",
     "metadata": {}
    }
   ],
   "source": [
    "avg_slice_10_min[:1]"
   ]
  },
  {
   "cell_type": "code",
   "execution_count": 17,
   "metadata": {},
   "outputs": [],
   "source": [
    "avg_slice_10_min['passenger_count'] = avg_slice_10_min['passenger_count'].apply(lambda x : float(x)/10)"
   ]
  },
  {
   "cell_type": "code",
   "execution_count": 18,
   "metadata": {},
   "outputs": [
    {
     "data": {
      "text/html": [
       "<div>\n",
       "<table border=\"1\" class=\"dataframe\">\n",
       "  <thead>\n",
       "    <tr style=\"text-align: right;\">\n",
       "      <th></th>\n",
       "      <th>wifi_ap_tag</th>\n",
       "      <th>slice_10_min</th>\n",
       "      <th>passenger_count</th>\n",
       "    </tr>\n",
       "  </thead>\n",
       "  <tbody>\n",
       "    <tr>\n",
       "      <th>0</th>\n",
       "      <td>E1-1A-1&lt;E1-1-01&gt;</td>\n",
       "      <td>2016-09-10-18-5</td>\n",
       "      <td>8.1</td>\n",
       "    </tr>\n",
       "  </tbody>\n",
       "</table>\n",
       "</div>"
      ]
     },
     "output_type": "execute_result",
     "metadata": {}
    }
   ],
   "source": [
    "avg_slice_10_min[:1]"
   ]
  },
  {
   "cell_type": "code",
   "execution_count": 19,
   "metadata": {},
   "outputs": [],
   "source": [
    "def get_pre_10_min(data):\n",
    "    data_tmp = data.split('-')\n",
    "    year = str(data_tmp[0])\n",
    "    month = str(data_tmp[1])\n",
    "    day = int(data_tmp[2])\n",
    "    hour = int(data_tmp[3])\n",
    "    slice = int(data_tmp[4])\n",
    "    \n",
    "    if slice >= 1:\n",
    "        slice = slice - 1\n",
    "    elif hour >= 1:\n",
    "        slice = 5\n",
    "        hour = hour - 1\n",
    "    else:\n",
    "        slice = 5\n",
    "        hour = 23\n",
    "        day = day - 1\n",
    "\n",
    "    day = str(day) if day >= 10 else '0'+str(day)\n",
    "    hour = str(hour) if hour >= 10 else '0'+str(hour)\n",
    "    \n",
    "    return year+'-'+month+'-'+day+'-'+hour+'-'+str(slice)"
   ]
  },
  {
   "cell_type": "code",
   "execution_count": 20,
   "metadata": {},
   "outputs": [
    {
     "data": {
      "text/plain": [
       "'2016-09-09-23-5'"
      ]
     },
     "execution_count": 20,
     "output_type": "execute_result",
     "metadata": {}
    }
   ],
   "source": [
    "#测试用例\n",
    "get_pre_10_min('2016-09-10-00-0')"
   ]
  },
  {
   "cell_type": "code",
   "execution_count": 21,
   "metadata": {},
   "outputs": [],
   "source": [
    "#predict_df['pre_10_min'] = predict_df['slice10min'].apply(lambda x : get_pre_10_min(x))\n",
    "#predict_df['pre_20_min'] = predict_df['pre_10_min'].apply(lambda x : get_pre_10_min(x))\n",
    "#predict_df['pre_30_min'] = predict_df['pre_20_min'].apply(lambda x : get_pre_10_min(x))\n",
    "if offline:\n",
    "    predict_df['pre_10_min'] = '2016-09-13-14-5'\n",
    "    predict_df['pre_20_min'] = '2016-09-13-14-4'\n",
    "    predict_df['pre_30_min'] = '2016-09-13-14-3'\n",
    "    predict_df['pre_40_min'] = '2016-09-13-14-2'\n",
    "    predict_df['pre_50_min'] = '2016-09-13-14-1'\n",
    "    predict_df['pre_60_min'] = '2016-09-13-14-0'\n",
    "else:\n",
    "    predict_df['pre_10_min'] = '2016-09-14-14-5'\n",
    "    predict_df['pre_20_min'] = '2016-09-14-14-4'\n",
    "    predict_df['pre_30_min'] = '2016-09-14-14-3'\n",
    "    predict_df['pre_40_min'] = '2016-09-14-14-2'\n",
    "    predict_df['pre_50_min'] = '2016-09-14-14-1'\n",
    "    predict_df['pre_60_min'] = '2016-09-14-14-0'"
   ]
  },
  {
   "cell_type": "code",
   "execution_count": 22,
   "metadata": {},
   "outputs": [
    {
     "data": {
      "text/html": [
       "<div>\n",
       "<table border=\"1\" class=\"dataframe\">\n",
       "  <thead>\n",
       "    <tr style=\"text-align: right;\">\n",
       "      <th></th>\n",
       "      <th>WIFIAPTag</th>\n",
       "      <th>slice10min</th>\n",
       "      <th>pre_10_min</th>\n",
       "      <th>pre_20_min</th>\n",
       "      <th>pre_30_min</th>\n",
       "      <th>pre_40_min</th>\n",
       "      <th>pre_50_min</th>\n",
       "      <th>pre_60_min</th>\n",
       "    </tr>\n",
       "  </thead>\n",
       "  <tbody>\n",
       "    <tr>\n",
       "      <th>0</th>\n",
       "      <td>E1-1A-1&lt;E1-1-01&gt;</td>\n",
       "      <td>2016-09-14-15-0</td>\n",
       "      <td>2016-09-14-14-5</td>\n",
       "      <td>2016-09-14-14-4</td>\n",
       "      <td>2016-09-14-14-3</td>\n",
       "      <td>2016-09-14-14-2</td>\n",
       "      <td>2016-09-14-14-1</td>\n",
       "      <td>2016-09-14-14-0</td>\n",
       "    </tr>\n",
       "    <tr>\n",
       "      <th>1</th>\n",
       "      <td>E1-1A-1&lt;E1-1-01&gt;</td>\n",
       "      <td>2016-09-14-15-1</td>\n",
       "      <td>2016-09-14-14-5</td>\n",
       "      <td>2016-09-14-14-4</td>\n",
       "      <td>2016-09-14-14-3</td>\n",
       "      <td>2016-09-14-14-2</td>\n",
       "      <td>2016-09-14-14-1</td>\n",
       "      <td>2016-09-14-14-0</td>\n",
       "    </tr>\n",
       "    <tr>\n",
       "      <th>2</th>\n",
       "      <td>E1-1A-1&lt;E1-1-01&gt;</td>\n",
       "      <td>2016-09-14-15-2</td>\n",
       "      <td>2016-09-14-14-5</td>\n",
       "      <td>2016-09-14-14-4</td>\n",
       "      <td>2016-09-14-14-3</td>\n",
       "      <td>2016-09-14-14-2</td>\n",
       "      <td>2016-09-14-14-1</td>\n",
       "      <td>2016-09-14-14-0</td>\n",
       "    </tr>\n",
       "    <tr>\n",
       "      <th>3</th>\n",
       "      <td>E1-1A-1&lt;E1-1-01&gt;</td>\n",
       "      <td>2016-09-14-15-3</td>\n",
       "      <td>2016-09-14-14-5</td>\n",
       "      <td>2016-09-14-14-4</td>\n",
       "      <td>2016-09-14-14-3</td>\n",
       "      <td>2016-09-14-14-2</td>\n",
       "      <td>2016-09-14-14-1</td>\n",
       "      <td>2016-09-14-14-0</td>\n",
       "    </tr>\n",
       "    <tr>\n",
       "      <th>4</th>\n",
       "      <td>E1-1A-1&lt;E1-1-01&gt;</td>\n",
       "      <td>2016-09-14-15-4</td>\n",
       "      <td>2016-09-14-14-5</td>\n",
       "      <td>2016-09-14-14-4</td>\n",
       "      <td>2016-09-14-14-3</td>\n",
       "      <td>2016-09-14-14-2</td>\n",
       "      <td>2016-09-14-14-1</td>\n",
       "      <td>2016-09-14-14-0</td>\n",
       "    </tr>\n",
       "  </tbody>\n",
       "</table>\n",
       "</div>"
      ]
     },
     "output_type": "execute_result",
     "metadata": {}
    }
   ],
   "source": [
    "predict_df[:5]"
   ]
  },
  {
   "cell_type": "code",
   "execution_count": 23,
   "metadata": {},
   "outputs": [],
   "source": [
    "def get_pre_day_slice(data):\n",
    "    data_tmp = data.split('-')\n",
    "    year = str(data_tmp[0])\n",
    "    month = str(data_tmp[1])\n",
    "    day = int(data_tmp[2])\n",
    "    hour = str(data_tmp[3])\n",
    "    slice = str(data_tmp[4])\n",
    "    \n",
    "    day = day - 1\n",
    "    \n",
    "    day = str(day) if day >= 10 else '0'+str(day)\n",
    "    \n",
    "    return year+'-'+month+'-'+day+'-'+hour+'-'+slice"
   ]
  },
  {
   "cell_type": "code",
   "execution_count": 24,
   "metadata": {},
   "outputs": [],
   "source": [
    "predict_df['pre_1_day'] = predict_df['slice10min'].apply(lambda x : get_pre_day_slice(x))\n",
    "predict_df['pre_2_day'] = predict_df['pre_1_day'].apply(lambda x : get_pre_day_slice(x))\n",
    "if not offline:\n",
    "    predict_df['pre_3_day'] = predict_df['pre_2_day'].apply(lambda x : get_pre_day_slice(x))"
   ]
  },
  {
   "cell_type": "code",
   "execution_count": 25,
   "metadata": {},
   "outputs": [
    {
     "data": {
      "text/html": [
       "<div>\n",
       "<table border=\"1\" class=\"dataframe\">\n",
       "  <thead>\n",
       "    <tr style=\"text-align: right;\">\n",
       "      <th></th>\n",
       "      <th>WIFIAPTag</th>\n",
       "      <th>slice10min</th>\n",
       "      <th>pre_10_min</th>\n",
       "      <th>pre_20_min</th>\n",
       "      <th>pre_30_min</th>\n",
       "      <th>pre_40_min</th>\n",
       "      <th>pre_50_min</th>\n",
       "      <th>pre_60_min</th>\n",
       "      <th>pre_1_day</th>\n",
       "      <th>pre_2_day</th>\n",
       "      <th>pre_3_day</th>\n",
       "    </tr>\n",
       "  </thead>\n",
       "  <tbody>\n",
       "    <tr>\n",
       "      <th>0</th>\n",
       "      <td>E1-1A-1&lt;E1-1-01&gt;</td>\n",
       "      <td>2016-09-14-15-0</td>\n",
       "      <td>2016-09-14-14-5</td>\n",
       "      <td>2016-09-14-14-4</td>\n",
       "      <td>2016-09-14-14-3</td>\n",
       "      <td>2016-09-14-14-2</td>\n",
       "      <td>2016-09-14-14-1</td>\n",
       "      <td>2016-09-14-14-0</td>\n",
       "      <td>2016-09-13-15-0</td>\n",
       "      <td>2016-09-12-15-0</td>\n",
       "      <td>2016-09-11-15-0</td>\n",
       "    </tr>\n",
       "    <tr>\n",
       "      <th>1</th>\n",
       "      <td>E1-1A-1&lt;E1-1-01&gt;</td>\n",
       "      <td>2016-09-14-15-1</td>\n",
       "      <td>2016-09-14-14-5</td>\n",
       "      <td>2016-09-14-14-4</td>\n",
       "      <td>2016-09-14-14-3</td>\n",
       "      <td>2016-09-14-14-2</td>\n",
       "      <td>2016-09-14-14-1</td>\n",
       "      <td>2016-09-14-14-0</td>\n",
       "      <td>2016-09-13-15-1</td>\n",
       "      <td>2016-09-12-15-1</td>\n",
       "      <td>2016-09-11-15-1</td>\n",
       "    </tr>\n",
       "    <tr>\n",
       "      <th>2</th>\n",
       "      <td>E1-1A-1&lt;E1-1-01&gt;</td>\n",
       "      <td>2016-09-14-15-2</td>\n",
       "      <td>2016-09-14-14-5</td>\n",
       "      <td>2016-09-14-14-4</td>\n",
       "      <td>2016-09-14-14-3</td>\n",
       "      <td>2016-09-14-14-2</td>\n",
       "      <td>2016-09-14-14-1</td>\n",
       "      <td>2016-09-14-14-0</td>\n",
       "      <td>2016-09-13-15-2</td>\n",
       "      <td>2016-09-12-15-2</td>\n",
       "      <td>2016-09-11-15-2</td>\n",
       "    </tr>\n",
       "    <tr>\n",
       "      <th>3</th>\n",
       "      <td>E1-1A-1&lt;E1-1-01&gt;</td>\n",
       "      <td>2016-09-14-15-3</td>\n",
       "      <td>2016-09-14-14-5</td>\n",
       "      <td>2016-09-14-14-4</td>\n",
       "      <td>2016-09-14-14-3</td>\n",
       "      <td>2016-09-14-14-2</td>\n",
       "      <td>2016-09-14-14-1</td>\n",
       "      <td>2016-09-14-14-0</td>\n",
       "      <td>2016-09-13-15-3</td>\n",
       "      <td>2016-09-12-15-3</td>\n",
       "      <td>2016-09-11-15-3</td>\n",
       "    </tr>\n",
       "    <tr>\n",
       "      <th>4</th>\n",
       "      <td>E1-1A-1&lt;E1-1-01&gt;</td>\n",
       "      <td>2016-09-14-15-4</td>\n",
       "      <td>2016-09-14-14-5</td>\n",
       "      <td>2016-09-14-14-4</td>\n",
       "      <td>2016-09-14-14-3</td>\n",
       "      <td>2016-09-14-14-2</td>\n",
       "      <td>2016-09-14-14-1</td>\n",
       "      <td>2016-09-14-14-0</td>\n",
       "      <td>2016-09-13-15-4</td>\n",
       "      <td>2016-09-12-15-4</td>\n",
       "      <td>2016-09-11-15-4</td>\n",
       "    </tr>\n",
       "  </tbody>\n",
       "</table>\n",
       "</div>"
      ]
     },
     "output_type": "execute_result",
     "metadata": {}
    }
   ],
   "source": [
    "predict_df[:5]"
   ]
  },
  {
   "cell_type": "code",
   "execution_count": 26,
   "metadata": {},
   "outputs": [],
   "source": [
    "predict_df['pre_1_10_min'] = predict_df['pre_1_day'].apply(lambda x : get_pre_10_min(x))\n",
    "\n",
    "avg_slice_10_min_copy = avg_slice_10_min.copy()\n",
    "avg_slice_10_min_copy.columns = ['WIFIAPTag','pre_1_10_min','pre_1_10_passenger_count']\n",
    "predict_df = pd.merge(left=predict_df,right=avg_slice_10_min_copy,on=['WIFIAPTag','pre_1_10_min'],how='left',sort=False).fillna(0)"
   ]
  },
  {
   "cell_type": "code",
   "execution_count": 27,
   "metadata": {},
   "outputs": [],
   "source": [
    "avg_slice_10_min_copy = avg_slice_10_min.copy()\n",
    "avg_slice_10_min_copy.columns = ['WIFIAPTag','pre_10_min','pre_10_passenger_count']\n",
    "predict_df = pd.merge(left=predict_df,right=avg_slice_10_min_copy,on=['WIFIAPTag','pre_10_min'],how='left',sort=False).fillna(0)"
   ]
  },
  {
   "cell_type": "code",
   "execution_count": 28,
   "metadata": {},
   "outputs": [],
   "source": [
    "avg_slice_10_min_copy = avg_slice_10_min.copy()\n",
    "avg_slice_10_min_copy.columns = ['WIFIAPTag','pre_20_min','pre_20_passenger_count']\n",
    "predict_df = pd.merge(left=predict_df,right=avg_slice_10_min_copy,on=['WIFIAPTag','pre_20_min'],how='left',sort=False).fillna(0)"
   ]
  },
  {
   "cell_type": "code",
   "execution_count": 29,
   "metadata": {},
   "outputs": [],
   "source": [
    "avg_slice_10_min_copy = avg_slice_10_min.copy()\n",
    "avg_slice_10_min_copy.columns = ['WIFIAPTag','pre_30_min','pre_30_passenger_count']\n",
    "predict_df = pd.merge(left=predict_df,right=avg_slice_10_min_copy,on=['WIFIAPTag','pre_30_min'],how='left',sort=False).fillna(0)"
   ]
  },
  {
   "cell_type": "code",
   "execution_count": 30,
   "metadata": {},
   "outputs": [],
   "source": [
    "avg_slice_10_min_copy = avg_slice_10_min.copy()\n",
    "avg_slice_10_min_copy.columns = ['WIFIAPTag','pre_40_min','pre_40_passenger_count']\n",
    "predict_df = pd.merge(left=predict_df,right=avg_slice_10_min_copy,on=['WIFIAPTag','pre_40_min'],how='left',sort=False).fillna(0)"
   ]
  },
  {
   "cell_type": "code",
   "execution_count": 31,
   "metadata": {},
   "outputs": [],
   "source": [
    "avg_slice_10_min_copy = avg_slice_10_min.copy()\n",
    "avg_slice_10_min_copy.columns = ['WIFIAPTag','pre_50_min','pre_50_passenger_count']\n",
    "predict_df = pd.merge(left=predict_df,right=avg_slice_10_min_copy,on=['WIFIAPTag','pre_50_min'],how='left',sort=False).fillna(0)"
   ]
  },
  {
   "cell_type": "code",
   "execution_count": 32,
   "metadata": {},
   "outputs": [],
   "source": [
    "avg_slice_10_min_copy = avg_slice_10_min.copy()\n",
    "avg_slice_10_min_copy.columns = ['WIFIAPTag','pre_60_min','pre_60_passenger_count']\n",
    "predict_df = pd.merge(left=predict_df,right=avg_slice_10_min_copy,on=['WIFIAPTag','pre_60_min'],how='left',sort=False).fillna(0)"
   ]
  },
  {
   "cell_type": "code",
   "execution_count": 33,
   "metadata": {},
   "outputs": [],
   "source": [
    "avg_slice_10_min_copy = avg_slice_10_min.copy()\n",
    "avg_slice_10_min_copy.columns = ['WIFIAPTag','pre_1_day','pre_1_passenger_count']\n",
    "predict_df = pd.merge(left=predict_df,right=avg_slice_10_min_copy,on=['WIFIAPTag','pre_1_day'],how='left',sort=False).fillna(0)"
   ]
  },
  {
   "cell_type": "code",
   "execution_count": 34,
   "metadata": {},
   "outputs": [],
   "source": [
    "avg_slice_10_min_copy = avg_slice_10_min.copy()\n",
    "avg_slice_10_min_copy.columns = ['WIFIAPTag','pre_2_day','pre_2_passenger_count']\n",
    "predict_df = pd.merge(left=predict_df,right=avg_slice_10_min_copy,on=['WIFIAPTag','pre_2_day'],how='left',sort=False).fillna(0)"
   ]
  },
  {
   "cell_type": "code",
   "execution_count": 35,
   "metadata": {},
   "outputs": [],
   "source": [
    "if not offline:\n",
    "    avg_slice_10_min_copy = avg_slice_10_min.copy()\n",
    "    avg_slice_10_min_copy.columns = ['WIFIAPTag','pre_3_day','pre_3_passenger_count']\n",
    "    predict_df = pd.merge(left=predict_df,right=avg_slice_10_min_copy,on=['WIFIAPTag','pre_3_day'],how='left',sort=False).fillna(0)"
   ]
  },
  {
   "cell_type": "code",
   "execution_count": 36,
   "metadata": {},
   "outputs": [
    {
     "data": {
      "text/html": [
       "<div>\n",
       "<table border=\"1\" class=\"dataframe\">\n",
       "  <thead>\n",
       "    <tr style=\"text-align: right;\">\n",
       "      <th></th>\n",
       "      <th>WIFIAPTag</th>\n",
       "      <th>slice10min</th>\n",
       "      <th>pre_10_min</th>\n",
       "      <th>pre_20_min</th>\n",
       "      <th>pre_30_min</th>\n",
       "      <th>pre_40_min</th>\n",
       "      <th>pre_50_min</th>\n",
       "      <th>pre_60_min</th>\n",
       "      <th>pre_1_day</th>\n",
       "      <th>pre_2_day</th>\n",
       "      <th>...</th>\n",
       "      <th>pre_1_10_passenger_count</th>\n",
       "      <th>pre_10_passenger_count</th>\n",
       "      <th>pre_20_passenger_count</th>\n",
       "      <th>pre_30_passenger_count</th>\n",
       "      <th>pre_40_passenger_count</th>\n",
       "      <th>pre_50_passenger_count</th>\n",
       "      <th>pre_60_passenger_count</th>\n",
       "      <th>pre_1_passenger_count</th>\n",
       "      <th>pre_2_passenger_count</th>\n",
       "      <th>pre_3_passenger_count</th>\n",
       "    </tr>\n",
       "  </thead>\n",
       "  <tbody>\n",
       "    <tr>\n",
       "      <th>0</th>\n",
       "      <td>E1-1A-1&lt;E1-1-01&gt;</td>\n",
       "      <td>2016-09-14-15-0</td>\n",
       "      <td>2016-09-14-14-5</td>\n",
       "      <td>2016-09-14-14-4</td>\n",
       "      <td>2016-09-14-14-3</td>\n",
       "      <td>2016-09-14-14-2</td>\n",
       "      <td>2016-09-14-14-1</td>\n",
       "      <td>2016-09-14-14-0</td>\n",
       "      <td>2016-09-13-15-0</td>\n",
       "      <td>2016-09-12-15-0</td>\n",
       "      <td>...</td>\n",
       "      <td>13.6</td>\n",
       "      <td>2.8</td>\n",
       "      <td>1.9</td>\n",
       "      <td>3.8</td>\n",
       "      <td>1.0</td>\n",
       "      <td>0.6</td>\n",
       "      <td>3.9</td>\n",
       "      <td>16.4</td>\n",
       "      <td>4.2</td>\n",
       "      <td>3.2</td>\n",
       "    </tr>\n",
       "    <tr>\n",
       "      <th>1</th>\n",
       "      <td>E1-1A-1&lt;E1-1-01&gt;</td>\n",
       "      <td>2016-09-14-15-1</td>\n",
       "      <td>2016-09-14-14-5</td>\n",
       "      <td>2016-09-14-14-4</td>\n",
       "      <td>2016-09-14-14-3</td>\n",
       "      <td>2016-09-14-14-2</td>\n",
       "      <td>2016-09-14-14-1</td>\n",
       "      <td>2016-09-14-14-0</td>\n",
       "      <td>2016-09-13-15-1</td>\n",
       "      <td>2016-09-12-15-1</td>\n",
       "      <td>...</td>\n",
       "      <td>16.4</td>\n",
       "      <td>2.8</td>\n",
       "      <td>1.9</td>\n",
       "      <td>3.8</td>\n",
       "      <td>1.0</td>\n",
       "      <td>0.6</td>\n",
       "      <td>3.9</td>\n",
       "      <td>16.7</td>\n",
       "      <td>6.0</td>\n",
       "      <td>4.2</td>\n",
       "    </tr>\n",
       "  </tbody>\n",
       "</table>\n",
       "<p>2 rows × 22 columns</p>\n",
       "</div>"
      ]
     },
     "output_type": "execute_result",
     "metadata": {}
    }
   ],
   "source": [
    "predict_df[:2]"
   ]
  },
  {
   "cell_type": "code",
   "execution_count": 37,
   "metadata": {},
   "outputs": [
    {
     "name": "stdout",
     "output_type": "stream",
     "text": [
      "1    2016-09-14-15-1\n",
      "2    2016-09-14-15-2\n",
      "Name: slice10min, dtype: object\n"
     ]
    }
   ],
   "source": [
    "#测试\n",
    "if offline:\n",
    "    print predict_df[(predict_df['slice10min'] > '2016-09-13-15-0') & (predict_df['slice10min'] < '2016-09-13-15-3')]['slice10min'].drop_duplicates()\n",
    "else:\n",
    "    print predict_df[(predict_df['slice10min'] > '2016-09-14-15-0') & (predict_df['slice10min'] < '2016-09-14-15-3')]['slice10min'].drop_duplicates()"
   ]
  },
  {
   "cell_type": "code",
   "execution_count": 38,
   "metadata": {},
   "outputs": [],
   "source": [
    "def get_score(y,pred_y):\n",
    "    score = 0.0\n",
    "    for i in range(len(y)):\n",
    "        score += (y[i]-pred_y[i])*(y[i]-pred_y[i])\n",
    "    return score"
   ]
  },
  {
   "cell_type": "code",
   "execution_count": 39,
   "metadata": {},
   "outputs": [],
   "source": [
    "if offline:\n",
    "    predict_df.loc[(predict_df['slice10min'] == '2016-09-13-15-0'),'passengerCount'] = 0.8*((predict_df['pre_10_passenger_count']+predict_df['pre_20_passenger_count']+predict_df['pre_30_passenger_count']+predict_df['pre_40_passenger_count']+predict_df['pre_50_passenger_count']+predict_df['pre_60_passenger_count'])/6)+0.2*((predict_df['pre_1_passenger_count']+predict_df['pre_2_passenger_count'])/2)\n",
    "    predict_df.loc[((predict_df['slice10min'] >= '2016-09-13-15-1') & (predict_df['slice10min'] < '2016-09-13-16-3')),'passengerCount'] = 0.6*((predict_df['pre_10_passenger_count']+predict_df['pre_20_passenger_count']+predict_df['pre_30_passenger_count'])/3)+0.4*(0.6*predict_df['pre_1_passenger_count']+0.4*predict_df['pre_2_passenger_count'])\n",
    "    #predict_df.loc[(predict_df['slice10min'] == '2016-09-13-15-1'),'passengerCount'] = 0.7*((predict_df['pre_10_passenger_count']+predict_df['pre_20_passenger_count']+predict_df['pre_30_passenger_count'])/3)+0.3*(0.6*predict_df['pre_1_passenger_count']+0.4*predict_df['pre_2_passenger_count'])\n",
    "    #predict_df.loc[(predict_df['slice10min'] == '2016-09-13-15-1'),'passengerCount'] = 0.65*((predict_df['pre_10_passenger_count']+predict_df['pre_20_passenger_count']+predict_df['pre_30_passenger_count'])/3)+0.35*(0.6*predict_df['pre_1_passenger_count']+0.4*predict_df['pre_2_passenger_count'])\n",
    "    predict_df.loc[((predict_df['slice10min'] >= '2016-09-13-15-3') & (predict_df['slice10min'] < '2016-09-13-16-0')),'passengerCount'] = 0.55*((predict_df['pre_10_passenger_count']+predict_df['pre_20_passenger_count']+predict_df['pre_30_passenger_count'])/3)+0.45*(0.6*predict_df['pre_1_passenger_count']+0.4*predict_df['pre_2_passenger_count'])\n",
    "    predict_df.loc[((predict_df['slice10min'] >= '2016-09-13-16-0') & (predict_df['slice10min'] < '2016-09-13-16-3')),'passengerCount'] = 0.5*((predict_df['pre_10_passenger_count']+predict_df['pre_20_passenger_count']+predict_df['pre_30_passenger_count'])/3)+0.5*(0.6*predict_df['pre_1_passenger_count']+0.4*predict_df['pre_2_passenger_count'])\n",
    "    predict_df.loc[((predict_df['slice10min'] >= '2016-09-13-16-3') & (predict_df['slice10min'] < '2016-09-13-17-0')),'passengerCount'] = 0.45*((predict_df['pre_10_passenger_count']+predict_df['pre_20_passenger_count']+predict_df['pre_30_passenger_count'])/3)+0.55*(0.6*predict_df['pre_1_passenger_count']+0.4*predict_df['pre_2_passenger_count'])\n",
    "    predict_df.loc[((predict_df['slice10min'] >= '2016-09-13-17-0') & (predict_df['slice10min'] < '2016-09-13-17-3')),'passengerCount'] = 0.4*((predict_df['pre_10_passenger_count']+predict_df['pre_20_passenger_count']+predict_df['pre_30_passenger_count'])/3)+0.6*(0.6*predict_df['pre_1_passenger_count']+0.4*predict_df['pre_2_passenger_count'])\n",
    "    predict_df.loc[(predict_df['slice10min'] >= '2016-09-13-17-3'),'passengerCount'] = 0.35*((predict_df['pre_10_passenger_count']+predict_df['pre_20_passenger_count']+predict_df['pre_30_passenger_count'])/3)+0.65*(0.6*predict_df['pre_1_passenger_count']+0.4*predict_df['pre_2_passenger_count'])\n",
    "else:\n",
    "    #线上 11,6813\n",
    "    #predict_df.loc[(predict_df['slice10min'] < '2016-09-14-15-3'),'passengerCount'] = predict_df['pre_10_passenger_count']\n",
    "    #predict_df.loc[((predict_df['slice10min'] >= '2016-09-14-15-3') & (predict_df['slice10min'] < '2016-09-14-16-0')),'passengerCount'] = 0.4*predict_df['pre_10_passenger_count']+0.3*predict_df['pre_20_passenger_count']+0.3*predict_df['pre_30_passenger_count']\n",
    "    #predict_df.loc[((predict_df['slice10min'] >= '2016-09-14-16-0') & (predict_df['slice10min'] < '2016-09-14-17-0')),'passengerCount'] = 0.6*((predict_df['pre_10_passenger_count']+predict_df['pre_20_passenger_count']+predict_df['pre_30_passenger_count'])/3)+0.4*((predict_df['pre_1_passenger_count']+predict_df['pre_2_passenger_count']+predict_df['pre_3_passenger_count'])/3)\n",
    "    #predict_df.loc[(predict_df['slice10min'] >= '2016-09-14-17-0'),'passengerCount'] = 0.4*((predict_df['pre_10_passenger_count']+predict_df['pre_20_passenger_count']+predict_df['pre_30_passenger_count'])/3)+0.6*((predict_df['pre_1_passenger_count']+predict_df['pre_2_passenger_count']+predict_df['pre_3_passenger_count'])/3)\n",
    "    \n",
    "    #时间弄错了\n",
    "    #线上 9,9819     pre_x_day 5 : 3 : 2    \n",
    "    #线上 100894     pre_x_day 5 : 4 : 1 \n",
    "    #线上 99431      pre_x_day 4 : 4 : 2\n",
    "    predict_df.loc[(predict_df['slice10min'] >= '2016-09-13-17-3'),'passengerCount'] = 0.35*((predict_df['pre_10_passenger_count']+predict_df['pre_20_passenger_count']+predict_df['pre_30_passenger_count'])/3)+0.65*(0.4*predict_df['pre_1_passenger_count']+0.4*predict_df['pre_2_passenger_count']+0.2*predict_df['pre_3_passenger_count'])\n",
    "    \n",
    "    #one change 98387\n",
    "    predict_df.loc[(predict_df['slice10min'] == '2016-09-14-15-0'),'passengerCount'] = predict_df['pre_10_passenger_count']\n",
    "    \n",
    "    #two change 98145\n",
    "    predict_df.loc[(predict_df['slice10min'] == '2016-09-14-15-1'),'passengerCount'] = 0.5*predict_df['pre_10_passenger_count']+0.5*(0.4*predict_df['pre_1_passenger_count']+0.4*predict_df['pre_2_passenger_count']+0.2*predict_df['pre_3_passenger_count'])\n",
    "    \n",
    "    #线上   跟上面差不多\n",
    "    #predict_df.loc[(predict_df['slice10min'] == '2016-09-14-15-0'),'passengerCount'] = 0.8*predict_df['pre_10_passenger_count']+0.2*(0.5*predict_df['pre_1_passenger_count']+0.3*predict_df['pre_2_passenger_count']+0.2*predict_df['pre_3_passenger_count'])\n",
    "    \n",
    "    #predict_df.loc[(predict_df['slice10min'] == '2016-09-14-15-1'),'passengerCount'] = 0.7*((predict_df['pre_10_passenger_count']+predict_df['pre_20_passenger_count']+predict_df['pre_30_passenger_count'])/3)+0.3*(0.5*predict_df['pre_1_passenger_count']+0.3*predict_df['pre_2_passenger_count']+0.2*predict_df['pre_3_passenger_count'])\n",
    "    #predict_df.loc[(predict_df['slice10min'] == '2016-09-14-15-2'),'passengerCount'] = 0.65*((predict_df['pre_10_passenger_count']+predict_df['pre_20_passenger_count']+predict_df['pre_30_passenger_count'])/3)+0.35*(0.5*predict_df['pre_1_passenger_count']+0.3*predict_df['pre_2_passenger_count']+0.2*predict_df['pre_3_passenger_count'])\n",
    "    #predict_df.loc[((predict_df['slice10min'] >= '2016-09-13-15-1') & (predict_df['slice10min'] < '2016-09-13-16-3')),'passengerCount'] = 0.6*((predict_df['pre_10_passenger_count']+predict_df['pre_20_passenger_count']+predict_df['pre_30_passenger_count'])/3)+0.4*(0.4*predict_df['pre_1_passenger_count']+0.4*predict_df['pre_2_passenger_count']+0.2*predict_df['pre_3_passenger_count'])\n",
    "    \n",
    "    #predict_df.loc[((predict_df['slice10min'] >= '2016-09-14-15-3') & (predict_df['slice10min'] < '2016-09-14-16-0')),'passengerCount'] = 0.55*((predict_df['pre_10_passenger_count']+predict_df['pre_20_passenger_count']+predict_df['pre_30_passenger_count'])/3)+0.45*(0.5*predict_df['pre_1_passenger_count']+0.3*predict_df['pre_2_passenger_count']+0.2*predict_df['pre_3_passenger_count'])\n",
    "    #predict_df.loc[((predict_df['slice10min'] >= '2016-09-14-16-0') & (predict_df['slice10min'] < '2016-09-14-16-3')),'passengerCount'] = 0.5*((predict_df['pre_10_passenger_count']+predict_df['pre_20_passenger_count']+predict_df['pre_30_passenger_count'])/3)+0.5*(0.5*predict_df['pre_1_passenger_count']+0.3*predict_df['pre_2_passenger_count']+0.2*predict_df['pre_3_passenger_count'])\n",
    "    #predict_df.loc[((predict_df['slice10min'] >= '2016-09-14-16-3') & (predict_df['slice10min'] < '2016-09-14-17-0')),'passengerCount'] = 0.45*((predict_df['pre_10_passenger_count']+predict_df['pre_20_passenger_count']+predict_df['pre_30_passenger_count'])/3)+0.55*(0.5*predict_df['pre_1_passenger_count']+0.3*predict_df['pre_2_passenger_count']+0.2*predict_df['pre_3_passenger_count'])\n",
    "    #predict_df.loc[((predict_df['slice10min'] >= '2016-09-14-17-0') & (predict_df['slice10min'] < '2016-09-14-17-3')),'passengerCount'] = 0.4*((predict_df['pre_10_passenger_count']+predict_df['pre_20_passenger_count']+predict_df['pre_30_passenger_count'])/3)+0.6*(0.5*predict_df['pre_1_passenger_count']+0.3*predict_df['pre_2_passenger_count']+0.2*predict_df['pre_3_passenger_count'])\n",
    "    #predict_df.loc[(predict_df['slice10min'] >= '2016-09-14-17-3'),'passengerCount'] = 0.35*((predict_df['pre_10_passenger_count']+predict_df['pre_20_passenger_count']+predict_df['pre_30_passenger_count'])/3)+0.65*(0.5*predict_df['pre_1_passenger_count']+0.3*predict_df['pre_2_passenger_count']+0.2*predict_df['pre_3_passenger_count'])"
   ]
  },
  {
   "cell_type": "code",
   "execution_count": 40,
   "metadata": {},
   "outputs": [],
   "source": [
    "result = pd.DataFrame()\n",
    "result['passengerCount'] = predict_df['passengerCount']\n",
    "result['WIFIAPTag'] = predict_df['WIFIAPTag']\n",
    "result['slice10min'] = predict_df['slice10min']"
   ]
  },
  {
   "cell_type": "code",
   "execution_count": 41,
   "metadata": {},
   "outputs": [],
   "source": [
    "if offline:\n",
    "    avg_slice_10_min_copy = avg_slice_10_min.copy()\n",
    "    avg_slice_10_min_copy.columns = ['WIFIAPTag','slice10min','passenger_count']\n",
    "    offline_result = pd.merge(left=result,right=avg_slice_10_min_copy,on=['WIFIAPTag','slice10min'],how='left',sort=False).fillna(0)\n",
    "    print get_score(offline_result['passenger_count'],offline_result['passengerCount'])\n",
    "else:\n",
    "    import os\n",
    "    if not os.path.exists('submit'):\n",
    "        os.makedirs('submit')\n",
    "    result.to_csv('./submit/airport_gz_passenger_predict.csv',index=None)"
   ]
  },
  {
   "cell_type": "code",
   "execution_count": null,
   "metadata": {},
   "outputs": [],
   "source": [
    "#比较同一wifi_ap_tag下，对应不同天的slice_10_min,passenger_cont的情况\n",
    "avg_slice_10_min[:1]"
   ]
  },
  {
   "cell_type": "code",
   "execution_count": null,
   "metadata": {},
   "outputs": [],
   "source": [
    "#趋势\n",
    "predict_df[['pre_1_passenger_count','pre_2_passenger_count']].plot()\n",
    "import matplotlib.pyplot as plt\n",
    "plt.show()"
   ]
  }
 ],
 "metadata": {
  "anaconda-cloud": {},
  "kernelspec": {
   "display_name": "Python [Root]",
   "language": "python",
   "name": "Python [Root]"
  },
  "language_info": {
   "codemirror_mode": {
    "name": "ipython",
    "version": 2.0
   },
   "file_extension": ".py",
   "mimetype": "text/x-python",
   "name": "python",
   "nbconvert_exporter": "python",
   "pygments_lexer": "ipython2",
   "version": "2.7.12"
  }
 },
 "nbformat": 4,
 "nbformat_minor": 0
}